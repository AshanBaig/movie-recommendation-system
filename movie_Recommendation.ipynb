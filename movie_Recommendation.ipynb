{
 "cells": [
  {
   "cell_type": "code",
   "execution_count": 666,
   "id": "8062e668-7141-4108-bcda-0778f7dbab18",
   "metadata": {},
   "outputs": [],
   "source": [
    "import pandas as pd\n",
    "import numpy as np"
   ]
  },
  {
   "cell_type": "code",
   "execution_count": 667,
   "id": "ebea0232-134b-4a38-9f44-c828eb0890ec",
   "metadata": {},
   "outputs": [],
   "source": [
    "movies=pd.read_csv(\"tmdb_5000_movies.csv\")\n",
    "credits=pd.read_csv(\"tmdb_5000_credits.csv\")\n",
    "\n",
    "\n"
   ]
  },
  {
   "cell_type": "code",
   "execution_count": 668,
   "id": "8353605b-bbfe-40ad-a15d-9bc53c811348",
   "metadata": {},
   "outputs": [],
   "source": [
    "movies=movies.merge(credits,on=\"title\")"
   ]
  },
  {
   "cell_type": "code",
   "execution_count": 669,
   "id": "91d59870-656a-4885-8a50-c9b6050ab008",
   "metadata": {},
   "outputs": [],
   "source": [
    "movies=movies[[\"title\",\"movie_id\",\"genres\",\"keywords\",\"overview\",\"cast\",\"crew\",]]\n"
   ]
  },
  {
   "cell_type": "code",
   "execution_count": 670,
   "id": "9bf6805b-2048-4db1-84cd-2dc84458cda8",
   "metadata": {},
   "outputs": [],
   "source": [
    "movies.dropna(inplace=True)"
   ]
  },
  {
   "cell_type": "code",
   "execution_count": 671,
   "id": "58b1079c-8264-4db5-941c-d74a446b0cef",
   "metadata": {},
   "outputs": [],
   "source": [
    "import ast\n"
   ]
  },
  {
   "cell_type": "code",
   "execution_count": 672,
   "id": "a8d07016-24af-4c24-adcc-10959eeb9f67",
   "metadata": {},
   "outputs": [],
   "source": [
    "def convert(obj):\n",
    "    lst=[]\n",
    "    for i in ast.literal_eval(obj):\n",
    "        lst.append(i[\"name\"].replace(\" \",\"\"))\n",
    "    return lst\n",
    "    "
   ]
  },
  {
   "cell_type": "code",
   "execution_count": 673,
   "id": "18026925-7ea0-469c-bb6e-5212932cca7d",
   "metadata": {},
   "outputs": [],
   "source": [
    "movies[\"genres\"]=movies.genres.apply(convert)\n",
    "movies[\"keywords\"]=movies.keywords.apply(convert)\n"
   ]
  },
  {
   "cell_type": "code",
   "execution_count": 674,
   "id": "25fcb872-d321-4c26-8ffd-4126adedee85",
   "metadata": {},
   "outputs": [],
   "source": [
    "def convert_cast(obj):\n",
    "    lst=[]\n",
    "    for i in ast.literal_eval(obj):\n",
    "        if len(lst)>=3:  # picking top 3 characters\n",
    "            break\n",
    "        lst.append(i[\"name\"].replace(\" \",\"\"))\n",
    "    return lst\n",
    "    "
   ]
  },
  {
   "cell_type": "code",
   "execution_count": 675,
   "id": "84cba572-f133-4997-9c46-6d0ab61f918b",
   "metadata": {},
   "outputs": [],
   "source": [
    "movies[\"cast\"]=movies.cast.apply(convert_cast)\n"
   ]
  },
  {
   "cell_type": "code",
   "execution_count": 676,
   "id": "30632ffa-ff31-4dd2-a1de-4ae98ca9cec1",
   "metadata": {},
   "outputs": [],
   "source": [
    "def convert_crew(obj):\n",
    "    lst=[]\n",
    "    for i in ast.literal_eval(obj):\n",
    "        if i[\"job\"]==\"Director\":\n",
    "            lst.append(i[\"name\"].replace(\" \",\"\"))\n",
    "            break\n",
    "    return lst\n",
    "    "
   ]
  },
  {
   "cell_type": "code",
   "execution_count": 677,
   "id": "8b8165c0-80aa-4137-8219-bd0b8dee77e9",
   "metadata": {},
   "outputs": [],
   "source": [
    "movies.crew=movies.crew.apply(convert_crew)"
   ]
  },
  {
   "cell_type": "code",
   "execution_count": 678,
   "id": "be8b28eb-b599-4293-af2c-2a77c1236402",
   "metadata": {},
   "outputs": [],
   "source": [
    "# movies[\"title\"]=movies[\"title\"].apply(lower_case)\n",
    "movies[\"tags\"]=movies.overview.apply(lambda x:x.split() )+movies.genres+movies.keywords+movies.cast+movies.crew"
   ]
  },
  {
   "cell_type": "code",
   "execution_count": 679,
   "id": "402143cf-dba6-41be-9c51-7314357c6418",
   "metadata": {},
   "outputs": [],
   "source": [
    "\n",
    "movies.tags=movies.tags.apply(lambda obj:\" \".join(obj))\n",
    "movies.tags=movies.tags.apply(lambda x: x.lower())\n"
   ]
  },
  {
   "cell_type": "code",
   "execution_count": 680,
   "id": "c468d200-6cd9-413e-ad5d-155f88e5a628",
   "metadata": {},
   "outputs": [
    {
     "data": {
      "text/plain": [
       "'in the 22nd century, a paraplegic marine is dispatched to the moon pandora on a unique mission, but becomes torn between following orders and protecting an alien civilization. action adventure fantasy sciencefiction cultureclash future spacewar spacecolony society spacetravel futuristic romance space alien tribe alienplanet cgi marine soldier battle loveaffair antiwar powerrelations mindandsoul 3d samworthington zoesaldana sigourneyweaver jamescameron'"
      ]
     },
     "execution_count": 680,
     "metadata": {},
     "output_type": "execute_result"
    }
   ],
   "source": [
    "                                \n",
    "movies.tags[0]"
   ]
  },
  {
   "cell_type": "code",
   "execution_count": 681,
   "id": "62a370b4-61dc-4653-9db9-138052d15966",
   "metadata": {},
   "outputs": [
    {
     "data": {
      "text/html": [
       "<div>\n",
       "<style scoped>\n",
       "    .dataframe tbody tr th:only-of-type {\n",
       "        vertical-align: middle;\n",
       "    }\n",
       "\n",
       "    .dataframe tbody tr th {\n",
       "        vertical-align: top;\n",
       "    }\n",
       "\n",
       "    .dataframe thead th {\n",
       "        text-align: right;\n",
       "    }\n",
       "</style>\n",
       "<table border=\"1\" class=\"dataframe\">\n",
       "  <thead>\n",
       "    <tr style=\"text-align: right;\">\n",
       "      <th></th>\n",
       "      <th>title</th>\n",
       "      <th>movie_id</th>\n",
       "      <th>tags</th>\n",
       "    </tr>\n",
       "  </thead>\n",
       "  <tbody>\n",
       "    <tr>\n",
       "      <th>0</th>\n",
       "      <td>Avatar</td>\n",
       "      <td>19995</td>\n",
       "      <td>in the 22nd century, a paraplegic marine is di...</td>\n",
       "    </tr>\n",
       "    <tr>\n",
       "      <th>1</th>\n",
       "      <td>Pirates of the Caribbean: At World's End</td>\n",
       "      <td>285</td>\n",
       "      <td>captain barbossa, long believed to be dead, ha...</td>\n",
       "    </tr>\n",
       "    <tr>\n",
       "      <th>2</th>\n",
       "      <td>Spectre</td>\n",
       "      <td>206647</td>\n",
       "      <td>a cryptic message from bond’s past sends him o...</td>\n",
       "    </tr>\n",
       "    <tr>\n",
       "      <th>3</th>\n",
       "      <td>The Dark Knight Rises</td>\n",
       "      <td>49026</td>\n",
       "      <td>following the death of district attorney harve...</td>\n",
       "    </tr>\n",
       "    <tr>\n",
       "      <th>4</th>\n",
       "      <td>John Carter</td>\n",
       "      <td>49529</td>\n",
       "      <td>john carter is a war-weary, former military ca...</td>\n",
       "    </tr>\n",
       "    <tr>\n",
       "      <th>...</th>\n",
       "      <td>...</td>\n",
       "      <td>...</td>\n",
       "      <td>...</td>\n",
       "    </tr>\n",
       "    <tr>\n",
       "      <th>4804</th>\n",
       "      <td>El Mariachi</td>\n",
       "      <td>9367</td>\n",
       "      <td>el mariachi just wants to play his guitar and ...</td>\n",
       "    </tr>\n",
       "    <tr>\n",
       "      <th>4805</th>\n",
       "      <td>Newlyweds</td>\n",
       "      <td>72766</td>\n",
       "      <td>a newlywed couple's honeymoon is upended by th...</td>\n",
       "    </tr>\n",
       "    <tr>\n",
       "      <th>4806</th>\n",
       "      <td>Signed, Sealed, Delivered</td>\n",
       "      <td>231617</td>\n",
       "      <td>\"signed, sealed, delivered\" introduces a dedic...</td>\n",
       "    </tr>\n",
       "    <tr>\n",
       "      <th>4807</th>\n",
       "      <td>Shanghai Calling</td>\n",
       "      <td>126186</td>\n",
       "      <td>when ambitious new york attorney sam is sent t...</td>\n",
       "    </tr>\n",
       "    <tr>\n",
       "      <th>4808</th>\n",
       "      <td>My Date with Drew</td>\n",
       "      <td>25975</td>\n",
       "      <td>ever since the second grade when he first saw ...</td>\n",
       "    </tr>\n",
       "  </tbody>\n",
       "</table>\n",
       "<p>4806 rows × 3 columns</p>\n",
       "</div>"
      ],
      "text/plain": [
       "                                         title  movie_id  \\\n",
       "0                                       Avatar     19995   \n",
       "1     Pirates of the Caribbean: At World's End       285   \n",
       "2                                      Spectre    206647   \n",
       "3                        The Dark Knight Rises     49026   \n",
       "4                                  John Carter     49529   \n",
       "...                                        ...       ...   \n",
       "4804                               El Mariachi      9367   \n",
       "4805                                 Newlyweds     72766   \n",
       "4806                 Signed, Sealed, Delivered    231617   \n",
       "4807                          Shanghai Calling    126186   \n",
       "4808                         My Date with Drew     25975   \n",
       "\n",
       "                                                   tags  \n",
       "0     in the 22nd century, a paraplegic marine is di...  \n",
       "1     captain barbossa, long believed to be dead, ha...  \n",
       "2     a cryptic message from bond’s past sends him o...  \n",
       "3     following the death of district attorney harve...  \n",
       "4     john carter is a war-weary, former military ca...  \n",
       "...                                                 ...  \n",
       "4804  el mariachi just wants to play his guitar and ...  \n",
       "4805  a newlywed couple's honeymoon is upended by th...  \n",
       "4806  \"signed, sealed, delivered\" introduces a dedic...  \n",
       "4807  when ambitious new york attorney sam is sent t...  \n",
       "4808  ever since the second grade when he first saw ...  \n",
       "\n",
       "[4806 rows x 3 columns]"
      ]
     },
     "execution_count": 681,
     "metadata": {},
     "output_type": "execute_result"
    }
   ],
   "source": [
    "new_df=movies[[\"title\",\"movie_id\",\"tags\"]]\n",
    "new_df"
   ]
  },
  {
   "cell_type": "markdown",
   "id": "2d29260f-c4cc-4884-9b45-a02472864e3c",
   "metadata": {},
   "source": [
    "# Vectorizatuon"
   ]
  },
  {
   "cell_type": "code",
   "execution_count": 682,
   "id": "56ade20e-1e99-4577-bbd5-df9e27cb0ea9",
   "metadata": {},
   "outputs": [],
   "source": [
    "from sklearn.feature_extraction.text import CountVectorizer\n",
    "cv=CountVectorizer(max_features=5000,stop_words=\"english\",binary=True)"
   ]
  },
  {
   "cell_type": "code",
   "execution_count": 683,
   "id": "26e17491-49a9-406b-91f5-709eb7242c5a",
   "metadata": {},
   "outputs": [],
   "source": [
    "vector=cv.fit_transform(new_df[\"tags\"]).toarray()"
   ]
  },
  {
   "cell_type": "code",
   "execution_count": 684,
   "id": "806170c7-438f-4917-81d9-0f8fde06cf8e",
   "metadata": {},
   "outputs": [
    {
     "data": {
      "text/plain": [
       "(4806, 5000)"
      ]
     },
     "execution_count": 684,
     "metadata": {},
     "output_type": "execute_result"
    }
   ],
   "source": [
    "cv.get_feature_names_out()\n",
    "vector.shape"
   ]
  },
  {
   "cell_type": "markdown",
   "id": "6ae0e257-02ce-4a06-ac6b-cc820c8eb080",
   "metadata": {},
   "source": [
    "# Stemming"
   ]
  },
  {
   "cell_type": "code",
   "execution_count": 685,
   "id": "6f1012c7-0e38-4599-bdfc-2069355185ff",
   "metadata": {},
   "outputs": [],
   "source": [
    "import nltk"
   ]
  },
  {
   "cell_type": "code",
   "execution_count": 686,
   "id": "e6a526b1-37fb-44ae-abf4-dba3053ec3fe",
   "metadata": {},
   "outputs": [],
   "source": [
    "from nltk.stem.porter import PorterStemmer\n",
    "ps=PorterStemmer()"
   ]
  },
  {
   "cell_type": "code",
   "execution_count": 687,
   "id": "f9f2b468-1c70-4874-a2b5-2e13100611ec",
   "metadata": {},
   "outputs": [],
   "source": [
    "def stemming(text):\n",
    "    L=[]\n",
    "    for i in text.split():\n",
    "        L.append(ps.stem(i))\n",
    "    return \" \".join(L)"
   ]
  },
  {
   "cell_type": "code",
   "execution_count": 688,
   "id": "2f7f223c-12e6-4447-b125-9d66f7df0883",
   "metadata": {},
   "outputs": [
    {
     "data": {
      "text/plain": [
       "'in the 22nd century, a paraplegic marine is dispatched to the moon pandora on a unique mission, but becomes torn between following orders and protecting an alien civilization. action adventure fantasy sciencefiction cultureclash future spacewar spacecolony society spacetravel futuristic romance space alien tribe alienplanet cgi marine soldier battle loveaffair antiwar powerrelations mindandsoul 3d samworthington zoesaldana sigourneyweaver jamescameron'"
      ]
     },
     "execution_count": 688,
     "metadata": {},
     "output_type": "execute_result"
    }
   ],
   "source": [
    "new_df.iloc[0][\"tags\"]"
   ]
  },
  {
   "cell_type": "code",
   "execution_count": 689,
   "id": "8a8d0e6a-ce67-4874-95c5-b23dcf21630d",
   "metadata": {},
   "outputs": [
    {
     "data": {
      "text/plain": [
       "'in the 22nd century, a paraplegic marine is dispatched to the moon pandora on a unique mission, but becomes torn between following orders and protecting an alien civilization. action adventure fantasy sciencefiction cultureclash future spacewar spacecolony society spacetravel futuristic romance space alien tribe alienplanet cgi marine soldier battle loveaffair antiwar powerrelations mindandsoul 3d samworthington zoesaldana sigourneyweaver jamescameron'"
      ]
     },
     "execution_count": 689,
     "metadata": {},
     "output_type": "execute_result"
    }
   ],
   "source": [
    "'in the 22nd century, a paraplegic marine is dispatched to the moon pandora on a unique mission, but becomes torn between following orders and protecting an alien civilization. action adventure fantasy sciencefiction cultureclash future spacewar spacecolony society spacetravel futuristic romance space alien tribe alienplanet cgi marine soldier battle loveaffair antiwar powerrelations mindandsoul 3d samworthington zoesaldana sigourneyweaver jamescameron'\n"
   ]
  },
  {
   "cell_type": "markdown",
   "id": "fcef66f7-f869-443a-a8aa-d85680d809a1",
   "metadata": {},
   "source": [
    "# Similarity"
   ]
  },
  {
   "cell_type": "code",
   "execution_count": 690,
   "id": "ac0092cf-32dd-497c-a935-fd64bfee4a0e",
   "metadata": {},
   "outputs": [
    {
     "data": {
      "text/plain": [
       "(4806, 4806)"
      ]
     },
     "execution_count": 690,
     "metadata": {},
     "output_type": "execute_result"
    }
   ],
   "source": [
    "from sklearn.metrics.pairwise import cosine_similarity\n",
    "similarity=cosine_similarity(vector)\n",
    "similarity.shape"
   ]
  },
  {
   "cell_type": "code",
   "execution_count": 691,
   "id": "f39a7383-8afb-43f8-9368-54833cf760a7",
   "metadata": {},
   "outputs": [
    {
     "data": {
      "text/plain": [
       "[(1192, 0.254000254000381),\n",
       " (61, 0.2351585405008862),\n",
       " (47, 0.22416096662402304),\n",
       " (260, 0.21997067253202998),\n",
       " (322, 0.21561438627179413)]"
      ]
     },
     "execution_count": 691,
     "metadata": {},
     "output_type": "execute_result"
    }
   ],
   "source": [
    "sorted(list(enumerate(similarity[0])),reverse=True,key=lambda x:x[1])[1:6]"
   ]
  },
  {
   "cell_type": "code",
   "execution_count": 693,
   "id": "ecf901bf-1938-4c61-8db3-28341ffb492d",
   "metadata": {},
   "outputs": [
    {
     "name": "stdout",
     "output_type": "stream",
     "text": [
      "(3, 0.33686076842660756)\n",
      "(65, 0.3368607684266075)\n",
      "(1361, 0.30414953233623676)\n",
      "(1360, 0.280717307022173)\n",
      "(210, 0.2712125199968458)\n",
      "['The Dark Knight Rises', 'The Dark Knight', 'Batman', 'Batman', 'Batman & Robin']\n"
     ]
    }
   ],
   "source": [
    "def recommended(movie):\n",
    "    movie_index=new_df[new_df[\"title\"]==movie].index[0]\n",
    "    indexes=sorted(list(enumerate(similarity[movie_index])),reverse=True,key=lambda x:x[1])[1:6]\n",
    "    l=[]\n",
    "    for i in indexes:\n",
    "        print(i)\n",
    "        l.append(new_df.iloc[i[0]].title)\n",
    "    print(l)\n",
    "    \n",
    "recommended(\"Batman Begins\")\n",
    "    \n",
    "    "
   ]
  },
  {
   "cell_type": "code",
   "execution_count": 694,
   "id": "5adf1f47-eee0-4593-91db-94a689a5efd0",
   "metadata": {},
   "outputs": [],
   "source": [
    "\n",
    "import pickle"
   ]
  },
  {
   "cell_type": "code",
   "execution_count": 696,
   "id": "bb0bf022-f3fb-4296-b320-9421b7d39070",
   "metadata": {},
   "outputs": [],
   "source": [
    "pickle.dump(new_df,open(\"movies.pkl\",\"wb\"))\n"
   ]
  },
  {
   "cell_type": "code",
   "execution_count": 697,
   "id": "03d2bcb0-fa88-4b0c-9459-b2b2b09ba176",
   "metadata": {},
   "outputs": [],
   "source": [
    "pickle.dump(similarity,open(\"similarity.pkl\",\"wb\"))\n"
   ]
  },
  {
   "cell_type": "code",
   "execution_count": null,
   "id": "e190c324-c354-4dc2-9bd3-6b46ef14e0fe",
   "metadata": {},
   "outputs": [],
   "source": []
  }
 ],
 "metadata": {
  "kernelspec": {
   "display_name": "Python 3 (ipykernel)",
   "language": "python",
   "name": "python3"
  },
  "language_info": {
   "codemirror_mode": {
    "name": "ipython",
    "version": 3
   },
   "file_extension": ".py",
   "mimetype": "text/x-python",
   "name": "python",
   "nbconvert_exporter": "python",
   "pygments_lexer": "ipython3",
   "version": "3.12.4"
  }
 },
 "nbformat": 4,
 "nbformat_minor": 5
}
